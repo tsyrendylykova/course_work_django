{
 "cells": [
  {
   "cell_type": "code",
   "execution_count": 1,
   "metadata": {
    "collapsed": true
   },
   "outputs": [],
   "source": [
    "import collections\n",
    "import numpy as np"
   ]
  },
  {
   "cell_type": "markdown",
   "metadata": {},
   "source": [
    "17 городов, 25 соединяющих дорог"
   ]
  },
  {
   "cell_type": "code",
   "execution_count": 22,
   "metadata": {
    "collapsed": true
   },
   "outputs": [],
   "source": [
    "roads = [\n",
    "    (\"Moscow\", \"Tver\", 5),\n",
    "    (\"Tver\", \"Saint-Petersburg\", 11),\n",
    "    (\"Saint-Petersburg\", \"Velikiy Novgorod\", 5),\n",
    "    (\"Velikiy Novgorod\", \"Tver\", 7),\n",
    "    (\"Moscow\", \"Ryazan\", 5),\n",
    "    (\"Moscow\", \"Nizhniy Novgorod\", 10),\n",
    "    (\"Penza\", \"Ryazan\", 8),\n",
    "    (\"Cheboksary\", \"Nizhniy Novgorod\", 5),\n",
    "    (\"Penza\", \"Samara\", 9),\n",
    "    (\"Samara\", \"Kazan\", 9),\n",
    "    (\"Yoshkar-Ola\", \"Nizhniy Novgorod\", 5),\n",
    "    (\"Yoshkar-Ola\", \"Kazan\", 6),\n",
    "    (\"Cheboksary\", \"Kazan\", 4),\n",
    "    (\"Yoshkar-Ola\", \"Cheboksary\", 2),\n",
    "    (\"Samara\", \"Orenburg\", 8),\n",
    "    (\"Kazan\", \"Orenburg\", 14),\n",
    "    (\"Kazan\", \"Perm\", 13),\n",
    "    (\"Kazan\", \"Naberezhnye Chelny\", 5),\n",
    "    (\"Perm\", \"Naberezhnye Chelny\", 10),\n",
    "    (\"Orenburg\", \"Naberezhnye Chelny\", 10),\n",
    "    (\"Orenburg\", \"Ufa\", 7),\n",
    "    (\"Ufa\", \"Naberezhnye Chelny\", 6),\n",
    "    (\"Ufa\", \"Chelyabinsk\", 8),\n",
    "    (\"Perm\", \"Ekaterinburg\", 8),\n",
    "    (\"Chelyabinsk\", \"Ekaterinburg\", 4)\n",
    "]"
   ]
  },
  {
   "cell_type": "code",
   "execution_count": 23,
   "metadata": {
    "collapsed": true
   },
   "outputs": [],
   "source": [
    "location_tuples = [\n",
    "    (\"Moscow\", 55.7558, 37.6173),\n",
    "    (\"Saint-Petersburg\", 59.9343, 30.3351),\n",
    "    (\"Tver\", 56.8597,35.7493),\n",
    "    (\"Velikiy Novgorod\", 58.5228,31.2718),\n",
    "    (\"Ryazan\", 54.6053,39.7157),\n",
    "    (\"Penza\", 53.2253,44.9985),\n",
    "    (\"Nizhniy Novgorod\", 56.2850,43.9086),\n",
    "    (\"Yoshkar-Ola\", 56.6354,47.8856),\n",
    "    (\"Cheboksary\", 56.1139,47.2563),\n",
    "    (\"Kazan\", 55.8094,49.0747),\n",
    "    (\"Samara\", 53.2383,50.2227),\n",
    "    (\"Orenburg\", 51.7646,55.0979),\n",
    "    (\"Naberezhnye Chelny\", 55.7204,52.3944),\n",
    "    (\"Perm\", 58.0205, 55.9540),\n",
    "    (\"Ekaterinburg\", 56.8139,60.3747),\n",
    "    (\"Chelyabinsk\", 55.1523,61.1283),\n",
    "    (\"Ufa\", 54.8088,55.7406),\n",
    "]"
   ]
  },
  {
   "cell_type": "code",
   "execution_count": 24,
   "metadata": {
    "collapsed": true
   },
   "outputs": [],
   "source": [
    "locs = [c[0] for c in location_tuples]\n",
    "ttime = [t[2] for t in roads]"
   ]
  },
  {
   "cell_type": "code",
   "execution_count": 25,
   "metadata": {
    "collapsed": false
   },
   "outputs": [
    {
     "data": {
      "text/plain": [
       "{0: 'Moscow',\n",
       " 1: 'Saint-Petersburg',\n",
       " 2: 'Tver',\n",
       " 3: 'Velikiy Novgorod',\n",
       " 4: 'Ryazan',\n",
       " 5: 'Penza',\n",
       " 6: 'Nizhniy Novgorod',\n",
       " 7: 'Yoshkar-Ola',\n",
       " 8: 'Cheboksary',\n",
       " 9: 'Kazan',\n",
       " 10: 'Samara',\n",
       " 11: 'Orenburg',\n",
       " 12: 'Naberezhnye Chelny',\n",
       " 13: 'Perm',\n",
       " 14: 'Ekaterinburg',\n",
       " 15: 'Chelyabinsk',\n",
       " 16: 'Ufa'}"
      ]
     },
     "execution_count": 25,
     "metadata": {},
     "output_type": "execute_result"
    }
   ],
   "source": [
    "# dict{location name: index}\n",
    "loc_name = {k:v for k, v in enumerate(locs)}\n",
    "loc_name"
   ]
  },
  {
   "cell_type": "code",
   "execution_count": 26,
   "metadata": {
    "collapsed": false
   },
   "outputs": [
    {
     "data": {
      "text/plain": [
       "(17, 17)"
      ]
     },
     "execution_count": 26,
     "metadata": {},
     "output_type": "execute_result"
    }
   ],
   "source": [
    "matr = np.zeros((len(location_tuples), len(location_tuples)))\n",
    "matr.shape"
   ]
  },
  {
   "cell_type": "code",
   "execution_count": 27,
   "metadata": {
    "collapsed": false
   },
   "outputs": [
    {
     "name": "stdout",
     "output_type": "stream",
     "text": [
      "[[  0.   0.   5.   0.   5.   0.  10.   0.   0.   0.   0.   0.   0.   0.\n",
      "    0.   0.   0.]\n",
      " [  0.   0.  11.   5.   0.   0.   0.   0.   0.   0.   0.   0.   0.   0.\n",
      "    0.   0.   0.]\n",
      " [  5.  11.   0.   7.   0.   0.   0.   0.   0.   0.   0.   0.   0.   0.\n",
      "    0.   0.   0.]\n",
      " [  0.   5.   7.   0.   0.   0.   0.   0.   0.   0.   0.   0.   0.   0.\n",
      "    0.   0.   0.]\n",
      " [  5.   0.   0.   0.   0.   8.   0.   0.   0.   0.   0.   0.   0.   0.\n",
      "    0.   0.   0.]\n",
      " [  0.   0.   0.   0.   8.   0.   0.   0.   0.   0.   9.   0.   0.   0.\n",
      "    0.   0.   0.]\n",
      " [ 10.   0.   0.   0.   0.   0.   0.   5.   5.   0.   0.   0.   0.   0.\n",
      "    0.   0.   0.]\n",
      " [  0.   0.   0.   0.   0.   0.   5.   0.   2.   6.   0.   0.   0.   0.\n",
      "    0.   0.   0.]\n",
      " [  0.   0.   0.   0.   0.   0.   5.   2.   0.   4.   0.   0.   0.   0.\n",
      "    0.   0.   0.]\n",
      " [  0.   0.   0.   0.   0.   0.   0.   6.   4.   0.   9.  14.   5.  13.\n",
      "    0.   0.   0.]\n",
      " [  0.   0.   0.   0.   0.   9.   0.   0.   0.   9.   0.   8.   0.   0.\n",
      "    0.   0.   0.]\n",
      " [  0.   0.   0.   0.   0.   0.   0.   0.   0.  14.   8.   0.  10.   0.\n",
      "    0.   0.   7.]\n",
      " [  0.   0.   0.   0.   0.   0.   0.   0.   0.   5.   0.  10.   0.  10.\n",
      "    0.   0.   6.]\n",
      " [  0.   0.   0.   0.   0.   0.   0.   0.   0.  13.   0.   0.  10.   0.\n",
      "    8.   0.   0.]\n",
      " [  0.   0.   0.   0.   0.   0.   0.   0.   0.   0.   0.   0.   0.   8.\n",
      "    0.   4.   0.]\n",
      " [  0.   0.   0.   0.   0.   0.   0.   0.   0.   0.   0.   0.   0.   0.\n",
      "    4.   0.   8.]\n",
      " [  0.   0.   0.   0.   0.   0.   0.   0.   0.   0.   0.   7.   6.   0.\n",
      "    0.   8.   0.]]\n"
     ]
    }
   ],
   "source": [
    "for i in range(len(matr)):\n",
    "    for j in range(len(matr)):\n",
    "        for l in roads:\n",
    "            if l[0] == loc_name[i] and l[1] == loc_name[j]:\n",
    "                matr[i][j] = l[2]\n",
    "                matr[j][i] = l[2]\n",
    "print(matr)"
   ]
  },
  {
   "cell_type": "code",
   "execution_count": 28,
   "metadata": {
    "collapsed": false
   },
   "outputs": [
    {
     "data": {
      "text/plain": [
       "defaultdict(dict,\n",
       "            {'Cheboksary': {'Kazan': 4.0,\n",
       "              'Nizhniy Novgorod': 5.0,\n",
       "              'Yoshkar-Ola': 2.0},\n",
       "             'Chelyabinsk': {'Ekaterinburg': 4.0, 'Ufa': 8.0},\n",
       "             'Ekaterinburg': {'Chelyabinsk': 4.0, 'Perm': 8.0},\n",
       "             'Kazan': {'Cheboksary': 4.0,\n",
       "              'Naberezhnye Chelny': 5.0,\n",
       "              'Orenburg': 14.0,\n",
       "              'Perm': 13.0,\n",
       "              'Samara': 9.0,\n",
       "              'Yoshkar-Ola': 6.0},\n",
       "             'Moscow': {'Nizhniy Novgorod': 10.0, 'Ryazan': 5.0, 'Tver': 5.0},\n",
       "             'Naberezhnye Chelny': {'Kazan': 5.0,\n",
       "              'Orenburg': 10.0,\n",
       "              'Perm': 10.0,\n",
       "              'Ufa': 6.0},\n",
       "             'Nizhniy Novgorod': {'Cheboksary': 5.0,\n",
       "              'Moscow': 10.0,\n",
       "              'Yoshkar-Ola': 5.0},\n",
       "             'Orenburg': {'Kazan': 14.0,\n",
       "              'Naberezhnye Chelny': 10.0,\n",
       "              'Samara': 8.0,\n",
       "              'Ufa': 7.0},\n",
       "             'Penza': {'Ryazan': 8.0, 'Samara': 9.0},\n",
       "             'Perm': {'Ekaterinburg': 8.0,\n",
       "              'Kazan': 13.0,\n",
       "              'Naberezhnye Chelny': 10.0},\n",
       "             'Ryazan': {'Moscow': 5.0, 'Penza': 8.0},\n",
       "             'Saint-Petersburg': {'Tver': 11.0, 'Velikiy Novgorod': 5.0},\n",
       "             'Samara': {'Kazan': 9.0, 'Orenburg': 8.0, 'Penza': 9.0},\n",
       "             'Tver': {'Moscow': 5.0,\n",
       "              'Saint-Petersburg': 11.0,\n",
       "              'Velikiy Novgorod': 7.0},\n",
       "             'Ufa': {'Chelyabinsk': 8.0,\n",
       "              'Naberezhnye Chelny': 6.0,\n",
       "              'Orenburg': 7.0},\n",
       "             'Velikiy Novgorod': {'Saint-Petersburg': 5.0, 'Tver': 7.0},\n",
       "             'Yoshkar-Ola': {'Cheboksary': 2.0,\n",
       "              'Kazan': 6.0,\n",
       "              'Nizhniy Novgorod': 5.0}})"
      ]
     },
     "execution_count": 28,
     "metadata": {},
     "output_type": "execute_result"
    }
   ],
   "source": [
    "G = collections.defaultdict(dict)\n",
    "for i, line in enumerate(matr):\n",
    "    for j, elem in enumerate(line):\n",
    "        if elem != 0:\n",
    "            G[loc_name[i]][loc_name[j]] = elem\n",
    "G"
   ]
  },
  {
   "cell_type": "code",
   "execution_count": 75,
   "metadata": {
    "collapsed": true
   },
   "outputs": [],
   "source": [
    "def dijkstra(G, current_point, end_point, visited_points, p, b, s):\n",
    "    for neigh in G[current_point]:\n",
    "        xm = p[current_point] + G[current_point][neigh]\n",
    "        if neigh not in p:\n",
    "            p[neigh] = G[current_point][neigh]\n",
    "            b[neigh] = current_point\n",
    "        \n",
    "        elif neigh not in visited_points:\n",
    "            if p[neigh] > xm:\n",
    "                p[neigh] = xm\n",
    "                b[neigh] = current_point\n",
    "\n",
    "    visited_points.append(current_point)\n",
    "\n",
    "    if len(G) <= len(visited_points):\n",
    "        s.insert(0, end_point)\n",
    "\n",
    "        while True:\n",
    "            if b[end_point] == -1:\n",
    "                break\n",
    "\n",
    "            end_point = b[end_point]\n",
    "            s.insert(0, end_point)\n",
    "\n",
    "        return s\n",
    "\n",
    "    for d in p:\n",
    "        if d not in visited_points:\n",
    "            dm = p[d]\n",
    "            break\n",
    "\n",
    "    for y in p:\n",
    "        if p[y] < dm and not y in visited_points:\n",
    "            dm = p[y]\n",
    "            d = y\n",
    "    current_point = d\n",
    "\n",
    "    dijkstra(G, current_point, end_point, visited_points, p, b, s)"
   ]
  },
  {
   "cell_type": "code",
   "execution_count": 77,
   "metadata": {
    "collapsed": false
   },
   "outputs": [
    {
     "data": {
      "text/plain": [
       "['Nizhniy Novgorod', 'Yoshkar-Ola', 'Kazan']"
      ]
     },
     "execution_count": 77,
     "metadata": {},
     "output_type": "execute_result"
    }
   ],
   "source": [
    "current_point, end_point, p, b, visited_points = start_v('Nizhniy Novgorod', 'Kazan')\n",
    "s = []\n",
    "dijkstra(G, current_point, end_point, visited_points, p, b, s)\n",
    "s"
   ]
  },
  {
   "cell_type": "code",
   "execution_count": 13,
   "metadata": {
    "collapsed": true
   },
   "outputs": [],
   "source": [
    "names = [\n",
    "    [\n",
    "        'Alexander',\n",
    "        'Alexei',\n",
    "        'Anatoly',\n",
    "        'Artyom',\n",
    "        'Bator',\n",
    "        'Boris',\n",
    "        'Vadim',\n",
    "        'Valeriy',\n",
    "        'Vladislav',\n",
    "        'Grigoriy',\n",
    "        'Daniil',\n",
    "        'Denis',\n",
    "        'Dmitrii',\n",
    "        'Evgeniy',\n",
    "        'Egor',\n",
    "        'Ivan',\n",
    "        'Ilya',\n",
    "        'Kirill',\n",
    "        'Konstantin',\n",
    "        'Maxim',\n",
    "        'Michail',\n",
    "        'Nikita',\n",
    "        'Nikolay',\n",
    "        'Oleg',\n",
    "        'Pavel',\n",
    "        'Petr',\n",
    "        'Roman',\n",
    "        'Ruslan',\n",
    "        'Sergey',\n",
    "        'Stanislav',\n",
    "        'Timur',\n",
    "        'Tsyden',\n",
    "        'Yury'\n",
    "    ],\n",
    "    [\n",
    "        'Alexandra',\n",
    "        'Anastasiya',\n",
    "        'Anna',\n",
    "        'Valentina',\n",
    "        'Viktoriia',\n",
    "        'Galina',\n",
    "        'Diana',\n",
    "        'Ekaterina',\n",
    "        'Elena',\n",
    "        'Erzhena',\n",
    "        'Evgeniya',\n",
    "        'Zhanna',\n",
    "        'Irina',\n",
    "        'Kseniya',\n",
    "        'Kristina',\n",
    "        'Larisa',\n",
    "        'Lubov',\n",
    "        'Ludmila',\n",
    "        'Margarita',\n",
    "        'Marina',\n",
    "        'Mariya',\n",
    "        'Nadezhda',\n",
    "        'Natalya',\n",
    "        'Oksana',\n",
    "        'Olga',\n",
    "        'Polina',\n",
    "        'Svetlana',\n",
    "        'Tatyana',\n",
    "        'Yulia',\n",
    "        'Yana'\n",
    "    ]\n",
    "]\n",
    "\n",
    "surname = [\n",
    "    'Abakumov',\n",
    "    'Abramov',\n",
    "    'Averin',\n",
    "    'Agafonov',\n",
    "    'Azarov',\n",
    "    'Alexeyev',\n",
    "    'Andreev',\n",
    "    'Anisimov',\n",
    "    'Anosov',\n",
    "    'Antipov',\n",
    "    'Arshavin',\n",
    "    'Astakhov',\n",
    "    'Babichev',\n",
    "    'Babykin',\n",
    "    'Barinov',\n",
    "    'Bazhenov',\n",
    "    'Bazarov',\n",
    "    'Balakin',\n",
    "    'Beloysov',\n",
    "    'Vavilov',\n",
    "    'Vasnetsov',\n",
    "    'Vakhrushev',\n",
    "    'Vetrov',\n",
    "    'Voloshin',\n",
    "    'Vorontsov',\n",
    "    'Gavrilov',\n",
    "    'Gagarin',\n",
    "    'Gorbunov',\n",
    "    'Grigoryev',\n",
    "    'Davydov',\n",
    "    'Derzhavin',\n",
    "    'Dmitriev',\n",
    "    'Yelizarov',\n",
    "    'Yeltsov',\n",
    "    'Yermakov',\n",
    "    'Yermolaev',\n",
    "    'Zhdanov',\n",
    "    'Zhilin',\n",
    "    'Zaytsev',\n",
    "    'Ivanov',\n",
    "    'Izmaylov',\n",
    "    'Ilyin',\n",
    "    'Kalashnokov',\n",
    "    'Kalugin',\n",
    "    'Kupriyanov',\n",
    "    'Kirillov',\n",
    "    'Klimov',\n",
    "    'Kozakov',\n",
    "    'Kuzmin',\n",
    "    'Komarov',\n",
    "    'Krivov',\n",
    "    'Kurbatov',\n",
    "    'Lavrentyev',\n",
    "    'Lavrov',\n",
    "    'Lebedev',\n",
    "    'Levin',\n",
    "    'Lisov',\n",
    "    'Limonov',\n",
    "    'Lomonosov',\n",
    "    'Maksinov',\n",
    "    'Mamonov',\n",
    "    'Marinin',\n",
    "    'Marinov',\n",
    "    'Markin',\n",
    "    'Matveev',\n",
    "    'Medvedev',\n",
    "    'Migunov',\n",
    "    'Minayev',\n",
    "    'Molchanov',\n",
    "    'Nazarov',\n",
    "    'Nikitin',\n",
    "    'Nosov',\n",
    "    'Ozerov',\n",
    "    'Orlov',\n",
    "    'Osminin',\n",
    "    'Panov',\n",
    "    'Pelevin',\n",
    "    'Perevalov',\n",
    "    'Pogodin',\n",
    "    'Popov',\n",
    "    'Repin',\n",
    "    'Rasputin',\n",
    "    'Pozhkov',\n",
    "    'Rodin',\n",
    "    'Ryabkin',\n",
    "    'Ryabov',\n",
    "    'Savrasov',\n",
    "    'Samarin',\n",
    "    'Samoylov',\n",
    "    'Samsonov',\n",
    "    'Semyonov',\n",
    "    'Senkin',\n",
    "    'Suvorov'\n",
    "]"
   ]
  },
  {
   "cell_type": "code",
   "execution_count": 14,
   "metadata": {
    "collapsed": false
   },
   "outputs": [
    {
     "data": {
      "text/plain": [
       "(5.0, 5.0)"
      ]
     },
     "execution_count": 14,
     "metadata": {},
     "output_type": "execute_result"
    }
   ],
   "source": [
    "G['Moscow']['Tver'], G['Tver']['Moscow']"
   ]
  },
  {
   "cell_type": "code",
   "execution_count": 48,
   "metadata": {
    "collapsed": false
   },
   "outputs": [],
   "source": [
    "def get_time_and_price(route):\n",
    "    \n",
    "    data = [collections.defaultdict(dict) for i in range(len(route) - 1)]\n",
    "    center_index = route.index(get_center(G, route))\n",
    "    i = 0\n",
    "    for s in route[:center_index]:\n",
    "        for s2 in route[:center_index:-1]:\n",
    "            dest = s+'_'+s2\n",
    "            data[i][dest] = get_route_duration(s, s2)\n",
    "            i+=1\n",
    "    return data"
   ]
  },
  {
   "cell_type": "code",
   "execution_count": 18,
   "metadata": {
    "collapsed": false
   },
   "outputs": [
    {
     "data": {
      "text/plain": [
       "[defaultdict(dict, {'Moscow_Orenburg': 30.0}),\n",
       " defaultdict(dict, {'Moscow_Samara': 22.0}),\n",
       " defaultdict(dict, {'Ryazan_Orenburg': 25.0}),\n",
       " defaultdict(dict, {'Ryazan_Samara': 17.0})]"
      ]
     },
     "execution_count": 18,
     "metadata": {},
     "output_type": "execute_result"
    }
   ],
   "source": [
    "route = ['Moscow', 'Ryazan', 'Penza', 'Samara', 'Orenburg']\n",
    "data = get_time_and_price(route)\n",
    "data"
   ]
  },
  {
   "cell_type": "code",
   "execution_count": 19,
   "metadata": {
    "collapsed": false
   },
   "outputs": [
    {
     "data": {
      "text/plain": [
       "13.0"
      ]
     },
     "execution_count": 19,
     "metadata": {},
     "output_type": "execute_result"
    }
   ],
   "source": [
    "get_route_duration('Moscow', 'Penza')"
   ]
  },
  {
   "cell_type": "code",
   "execution_count": 213,
   "metadata": {
    "collapsed": false
   },
   "outputs": [
    {
     "data": {
      "text/plain": [
       "defaultdict(dict,\n",
       "            {17.0: [2289.0, 1638.0, 2240.0],\n",
       "             22.0: [1874.0],\n",
       "             25.0: [2036.0, 2363.0, 1659.0, 2287.0],\n",
       "             30.0: [1991.0, 2348.0, 2386.0, 2328.0]})"
      ]
     },
     "execution_count": 213,
     "metadata": {},
     "output_type": "execute_result"
    }
   ],
   "source": [
    "a = [[1991.0, 30.0], [2348.0, 30.0], [2386.0, 30.0], [2328.0, 30.0], [1874.0, 22.0], [2036.0, 25.0], [2363.0, 25.0], [1659.0, 25.0], [2287.0, 25.0], [2289.0, 17.0], [1638.0, 17.0], [2240.0, 17.0]]\n",
    "data = collections.defaultdict(dict)\n",
    "for i in a:\n",
    "    data.setdefault(i[1], []).append(i[0])\n",
    "data"
   ]
  },
  {
   "cell_type": "code",
   "execution_count": 214,
   "metadata": {
    "collapsed": false
   },
   "outputs": [
    {
     "data": {
      "text/plain": [
       "defaultdict(dict,\n",
       "            {17.0: [2289.0, 2240.0, 1638.0],\n",
       "             22.0: [1874.0],\n",
       "             25.0: [2363.0, 2287.0, 2036.0, 1659.0],\n",
       "             30.0: [2386.0, 2348.0, 2328.0, 1991.0]})"
      ]
     },
     "execution_count": 214,
     "metadata": {},
     "output_type": "execute_result"
    }
   ],
   "source": [
    "k = 4\n",
    "import itertools, operator\n",
    "\n",
    "for c in data:\n",
    "    data[c] = sorted(data[c], reverse=True)\n",
    "data"
   ]
  },
  {
   "cell_type": "code",
   "execution_count": 229,
   "metadata": {
    "collapsed": false,
    "scrolled": false
   },
   "outputs": [
    {
     "name": "stdout",
     "output_type": "stream",
     "text": [
      "30.0 [2386.0, 2348.0, 2328.0, 1991.0]\n"
     ]
    },
    {
     "data": {
      "image/png": "[encoded data removed]",
      "text/plain": [
       "<matplotlib.figure.Figure at 0xbe233ddd68>"
      ]
     },
     "metadata": {},
     "output_type": "display_data"
    },
    {
     "name": "stdout",
     "output_type": "stream",
     "text": [
      "25.0 [2363.0, 2287.0, 2036.0, 1659.0]\n"
     ]
    },
    {
     "data": {
      "image/png": "[encoded data removed]",
      "text/plain": [
       "<matplotlib.figure.Figure at 0xbe22f82ac8>"
      ]
     },
     "metadata": {},
     "output_type": "display_data"
    },
    {
     "name": "stdout",
     "output_type": "stream",
     "text": [
      "22.0 [1874.0]\n"
     ]
    },
    {
     "data": {
      "image/png": "[encoded data removed]",
      "text/plain": [
       "<matplotlib.figure.Figure at 0xbe22f19048>"
      ]
     },
     "metadata": {},
     "output_type": "display_data"
    },
    {
     "name": "stdout",
     "output_type": "stream",
     "text": [
      "17.0 [2289.0, 2240.0, 1638.0]\n"
     ]
    },
    {
     "data": {
      "image/png": "[encoded data removed]",
      "text/plain": [
       "<matplotlib.figure.Figure at 0xbe20c54be0>"
      ]
     },
     "metadata": {},
     "output_type": "display_data"
    }
   ],
   "source": [
    "import matplotlib.pyplot as plt\n",
    "k = 4\n",
    "A = []\n",
    "for key, item in sorted(data.items(), reverse=True):\n",
    "    print(key, item)\n",
    "    a = [key for i in range(len(item))]\n",
    "    plt.scatter(a, item)\n",
    "    plt.grid(True)\n",
    "    plt.show()     \n"
   ]
  },
  {
   "cell_type": "code",
   "execution_count": 9,
   "metadata": {
    "collapsed": false
   },
   "outputs": [],
   "source": [
    "def dijkstra(graph, src, dest, path, visited, distances, predecessors):\n",
    "    if src == dest:\n",
    "        pred = dest\n",
    "        while pred != None:\n",
    "            path.insert(0, pred)\n",
    "            pred = predecessors.get(pred, None)\n",
    "    else:\n",
    "        if not visited:\n",
    "            distances[src] = 0\n",
    "        for neighbor in graph[src]:\n",
    "            new_distance = distances[src] + graph[src][neighbor]\n",
    "            if new_distance < distances.get(neighbor, float('inf')):\n",
    "                distances[neighbor] = new_distance\n",
    "                predecessors[neighbor] = src\n",
    "                \n",
    "        visited.append(src)\n",
    "        print(distances)\n",
    "        unvisited = {}\n",
    "        for k in graph:\n",
    "            if k not in visited:\n",
    "                unvisited[k] = distances.get(k, float('inf'))\n",
    "        x = min(unvisited, key = unvisited.get)\n",
    "        dijkstra(graph, x, dest, path, visited, distances, predecessors)"
   ]
  },
  {
   "cell_type": "code",
   "execution_count": 54,
   "metadata": {
    "collapsed": false
   },
   "outputs": [],
   "source": [
    "def get_center(G, route):\n",
    "    if len(route) > 2:\n",
    "        print('Yes')\n",
    "        duration = []\n",
    "        for i, r in enumerate(route[:len(route) -1]):\n",
    "                duration.append((G[route[i]][route[i+1]]))\n",
    "        hf = sum(duration) / 2\n",
    "        cur = 0\n",
    "        current_sum = []\n",
    "        for i, d in enumerate(duration):\n",
    "            cur += d\n",
    "            current_sum.append(cur)\n",
    "            if cur >= hf:\n",
    "                if i != 0:\n",
    "                    if (current_sum[i] - hf) < (hf - current_sum[i-1]):\n",
    "                        return route[i+1]\n",
    "                    else:\n",
    "                        return route[i]\n",
    "                else:\n",
    "                    return route[i+1]  \n",
    "    else:\n",
    "        return None"
   ]
  },
  {
   "cell_type": "code",
   "execution_count": 10,
   "metadata": {
    "collapsed": false,
    "scrolled": false
   },
   "outputs": [
    {
     "ename": "TypeError",
     "evalue": "dijkstra() missing 3 required positional arguments: 'visited', 'distances', and 'predecessors'",
     "output_type": "error",
     "traceback": [
      "\u001b[0;31m---------------------------------------------------------------------------\u001b[0m",
      "\u001b[0;31mTypeError\u001b[0m                                 Traceback (most recent call last)",
      "\u001b[0;32m<ipython-input-10-2c0da33e15fd>\u001b[0m in \u001b[0;36m<module>\u001b[0;34m()\u001b[0m\n\u001b[1;32m      1\u001b[0m \u001b[0mp1\u001b[0m \u001b[1;33m=\u001b[0m \u001b[1;33m[\u001b[0m\u001b[1;33m]\u001b[0m\u001b[1;33m\u001b[0m\u001b[0m\n\u001b[0;32m----> 2\u001b[0;31m \u001b[0mdijkstra\u001b[0m\u001b[1;33m(\u001b[0m\u001b[0mG\u001b[0m\u001b[1;33m,\u001b[0m\u001b[1;34m'Kazan'\u001b[0m\u001b[1;33m,\u001b[0m  \u001b[1;34m'Nizhniy Novgorod'\u001b[0m\u001b[1;33m,\u001b[0m \u001b[0mp1\u001b[0m\u001b[1;33m)\u001b[0m\u001b[1;33m\u001b[0m\u001b[0m\n\u001b[0m\u001b[1;32m      3\u001b[0m \u001b[0mp1\u001b[0m\u001b[1;33m\u001b[0m\u001b[0m\n",
      "\u001b[0;31mTypeError\u001b[0m: dijkstra() missing 3 required positional arguments: 'visited', 'distances', and 'predecessors'"
     ]
    }
   ],
   "source": [
    "p1 = []\n",
    "\n",
    "dijkstra(G,'Kazan',  'Nizhniy Novgorod', p1)\n",
    "p1"
   ]
  },
  {
   "cell_type": "code",
   "execution_count": 60,
   "metadata": {
    "collapsed": false
   },
   "outputs": [
    {
     "name": "stdout",
     "output_type": "stream",
     "text": [
      "Yes\n",
      "Nizhniy Novgorod\n"
     ]
    }
   ],
   "source": [
    "print(get_center(G, p1))"
   ]
  },
  {
   "cell_type": "code",
   "execution_count": 75,
   "metadata": {
    "collapsed": true
   },
   "outputs": [],
   "source": [
    "def start_v(start, end):\n",
    "    distances = {}\n",
    "    predecessors = {}\n",
    "    visited = []\n",
    "    route = []\n",
    "    current_point = start\n",
    "    end_point = end\n",
    "    return current_point, end_point, route, visited, distances, predecessors"
   ]
  },
  {
   "cell_type": "code",
   "execution_count": 84,
   "metadata": {
    "collapsed": false
   },
   "outputs": [],
   "source": [
    "def get_route_duration(start_point, end_point):\n",
    "    current_point, end, route, visited, distances, predecessors = start_v(start_point, end_point)\n",
    "\n",
    "    dijkstra(G, current_point, end, route, visited, distances, predecessors)\n",
    "    duration = []\n",
    "    for i, rr in enumerate(route[:len(route)-1]):\n",
    "        duration.append((G[route[i]][route[i+1]]))\n",
    "    return sum(duration)"
   ]
  },
  {
   "cell_type": "code",
   "execution_count": 85,
   "metadata": {
    "collapsed": false
   },
   "outputs": [
    {
     "name": "stdout",
     "output_type": "stream",
     "text": [
      "{'Moscow': 0, 'Tver': 5.0, 'Ryazan': 5.0, 'Nizhniy Novgorod': 10.0}\n",
      "{'Moscow': 0, 'Tver': 5.0, 'Ryazan': 5.0, 'Nizhniy Novgorod': 10.0, 'Saint-Petersburg': 16.0, 'Velikiy Novgorod': 12.0}\n",
      "{'Moscow': 0, 'Tver': 5.0, 'Ryazan': 5.0, 'Nizhniy Novgorod': 10.0, 'Saint-Petersburg': 16.0, 'Velikiy Novgorod': 12.0, 'Penza': 13.0}\n",
      "{'Moscow': 0, 'Tver': 5.0, 'Ryazan': 5.0, 'Nizhniy Novgorod': 10.0, 'Saint-Petersburg': 16.0, 'Velikiy Novgorod': 12.0, 'Penza': 13.0, 'Yoshkar-Ola': 15.0, 'Cheboksary': 15.0}\n",
      "{'Moscow': 0, 'Tver': 5.0, 'Ryazan': 5.0, 'Nizhniy Novgorod': 10.0, 'Saint-Petersburg': 16.0, 'Velikiy Novgorod': 12.0, 'Penza': 13.0, 'Yoshkar-Ola': 15.0, 'Cheboksary': 15.0}\n"
     ]
    },
    {
     "data": {
      "text/plain": [
       "13.0"
      ]
     },
     "execution_count": 85,
     "metadata": {},
     "output_type": "execute_result"
    }
   ],
   "source": [
    "get_route_duration('Moscow', 'Penza')"
   ]
  },
  {
   "cell_type": "code",
   "execution_count": null,
   "metadata": {
    "collapsed": true
   },
   "outputs": [],
   "source": [
    "def dijkstra(G, src, dest, route, visited, distances, predecessors):\n",
    "    print(src, dest, route, visited, distances, predecessors)\n",
    "    if src == dest:\n",
    "        pred = dest\n",
    "        while pred != None:\n",
    "            route.insert(0, pred)\n",
    "            pred = predecessors.get(pred, None)\n",
    "    else:\n",
    "        print(src)\n",
    "        if not visited:\n",
    "            distances[src] = 0\n",
    "        for neighbor in G[src]:\n",
    "            print(neighbor)\n",
    "            print(G[src][neighbor])\n",
    "            print(distances[src])\n",
    "            new_distance = distances.get(src) + G[src][neighbor]\n",
    "            if new_distance < distances.get(neighbor, float('inf')):\n",
    "                distances[neighbor] = new_distance\n",
    "                predecessors[neighbor] = src\n",
    "\n",
    "        visited.append(src)\n",
    "        unvisited = {}\n",
    "        for k in G:\n",
    "            if k not in visited:\n",
    "                unvisited[k] = distances.get(k, float('inf'))\n",
    "        x = min(unvisited, key = unvisited.get)\n",
    "        dijkstra(G, x, dest, route, visited, distances, predecessors)\n",
    "def start_v(start, end):\n",
    "    distances = {}\n",
    "    predecessors = {}\n",
    "    visited = []\n",
    "    route = []\n",
    "    current_point = start\n",
    "    end_point = end\n",
    "    return current_point, end_point, route, visited, distances, predecessors\n",
    "\n",
    "current_point, end_point, route, visited, distances, predecessors = start_v(start_point.name, end_point.name)\n",
    "G = get_graph()\n",
    "dijkstra(G, current_point, end_point, route, visited, distances, predecessors)"
   ]
  },
  {
   "cell_type": "code",
   "execution_count": 16,
   "metadata": {
    "collapsed": false
   },
   "outputs": [
    {
     "data": {
      "text/plain": [
       "2.6666666666666665"
      ]
     },
     "execution_count": 16,
     "metadata": {},
     "output_type": "execute_result"
    }
   ],
   "source": [
    "q = [[],[1, 2, 3],[1], [], [4,5]]\n",
    "w = [item for sublist in q for item in sublist]\n",
    "np.mean(w)"
   ]
  },
  {
   "cell_type": "code",
   "execution_count": null,
   "metadata": {
    "collapsed": true
   },
   "outputs": [],
   "source": [
    "def dijkstra(G, src, dest, route, visited, distances, predecessors):\n",
    "    print(src, dest, route, visited, distances, predecessors)\n",
    "    if src == dest:\n",
    "        pred = dest\n",
    "        while pred != None:\n",
    "            route.insert(0, pred)\n",
    "            pred = predecessors.get(pred, None)\n",
    "    else:\n",
    "        print(src)\n",
    "        if not visited:\n",
    "            distances[src] = 0\n",
    "        for neighbor in G[src]:\n",
    "            print(neighbor)\n",
    "            print(G[src][neighbor])\n",
    "            print(distances[src])\n",
    "            new_distance = distances.get(src) + G[src][neighbor]\n",
    "            if new_distance < distances.get(neighbor, float('inf')):\n",
    "                distances[neighbor] = new_distance\n",
    "                predecessors[neighbor] = src\n",
    "\n",
    "        visited.append(src)\n",
    "        unvisited = {}\n",
    "        for k in G:\n",
    "            if k not in visited:\n",
    "                unvisited[k] = distances.get(k, float('inf'))\n",
    "        x = min(unvisited, key = unvisited.get)\n",
    "        dijkstra(G, x, dest, route, visited, distances, predecessors)\n",
    "def start_v(start, end):\n",
    "    distances = {}\n",
    "    predecessors = {}\n",
    "    visited = []\n",
    "    route = []\n",
    "    current_point = start\n",
    "    end_point = end\n",
    "    return current_point, end_point, route, visited, distances, predecessors\n",
    "\n",
    "current_point, end_point, route, visited, distances, predecessors = start_v(start_point.name, end_point.name)\n",
    "G = get_graph()\n",
    "dijkstra(G, current_point, end_point, route, visited, distances, predecessors)"
   ]
  },
  {
   "cell_type": "code",
   "execution_count": 63,
   "metadata": {
    "collapsed": false
   },
   "outputs": [
    {
     "name": "stdout",
     "output_type": "stream",
     "text": [
      "-----\n",
      "A E\n",
      "-----\n",
      "A D\n",
      "B E\n",
      "-----\n",
      "A C\n",
      "B D\n",
      "C E\n",
      "-----\n",
      "A B\n",
      "B C\n",
      "C D\n",
      "D E\n",
      "-----\n"
     ]
    }
   ],
   "source": [
    "l = ['A', 'B', 'C', 'D', 'E']\n",
    "for i in range(len(l)):\n",
    "    for j, k in zip(range(0,i), range(-i, 0)):\n",
    "        print(l[j], l[k])\n",
    "    print('-----')"
   ]
  },
  {
   "cell_type": "code",
   "execution_count": 31,
   "metadata": {
    "collapsed": true
   },
   "outputs": [],
   "source": [
    "def dijkstra(G, src, dest, route, visited, distances, predecessors):\n",
    "    print(distances)\n",
    "    if src == dest:\n",
    "        pred = dest\n",
    "        while pred != None:\n",
    "            route.insert(0, pred)\n",
    "            pred = predecessors.get(pred, None)\n",
    "    else:\n",
    "        if not visited:\n",
    "            distances[src] = 0\n",
    "        for neighbor in G[src]:\n",
    "            new_distance = distances[src] + G[src][neighbor]\n",
    "            if new_distance < distances.get(neighbor, float('inf')):\n",
    "                distances[neighbor] = new_distance\n",
    "                predecessors[neighbor] = src\n",
    "\n",
    "        visited.append(src)\n",
    "        unvisited = {}\n",
    "        for k in G:\n",
    "            if k not in visited:\n",
    "                unvisited[k] = distances.get(k, float('inf'))\n",
    "        x = min(unvisited, key = unvisited.get)\n",
    "        dijkstra(G, x, dest, route, visited, distances, predecessors)\n",
    "\n",
    "def start_v(start, end):\n",
    "    distances = {}\n",
    "    predecessors = {}\n",
    "    visited = []\n",
    "    route = []\n",
    "    current_point = start\n",
    "    dest = end\n",
    "    return current_point, dest, route, visited, distances, predecessors"
   ]
  },
  {
   "cell_type": "code",
   "execution_count": 32,
   "metadata": {
    "collapsed": false
   },
   "outputs": [
    {
     "name": "stdout",
     "output_type": "stream",
     "text": [
      "{}\n",
      "{'Kazan': 0, 'Yoshkar-Ola': 6.0, 'Cheboksary': 4.0, 'Samara': 9.0, 'Orenburg': 14.0, 'Naberezhnye Chelny': 5.0, 'Perm': 13.0}\n",
      "{'Kazan': 0, 'Yoshkar-Ola': 6.0, 'Cheboksary': 4.0, 'Samara': 9.0, 'Orenburg': 14.0, 'Naberezhnye Chelny': 5.0, 'Perm': 13.0, 'Nizhniy Novgorod': 9.0}\n",
      "{'Kazan': 0, 'Yoshkar-Ola': 6.0, 'Cheboksary': 4.0, 'Samara': 9.0, 'Orenburg': 14.0, 'Naberezhnye Chelny': 5.0, 'Perm': 13.0, 'Nizhniy Novgorod': 9.0, 'Ufa': 11.0}\n",
      "{'Kazan': 0, 'Yoshkar-Ola': 6.0, 'Cheboksary': 4.0, 'Samara': 9.0, 'Orenburg': 14.0, 'Naberezhnye Chelny': 5.0, 'Perm': 13.0, 'Nizhniy Novgorod': 9.0, 'Ufa': 11.0}\n"
     ]
    },
    {
     "data": {
      "text/plain": [
       "['Kazan', 'Cheboksary', 'Nizhniy Novgorod']"
      ]
     },
     "execution_count": 32,
     "metadata": {},
     "output_type": "execute_result"
    }
   ],
   "source": [
    "current_point, dest, route, visited, distances, predecessors = start_v('Kazan', 'Nizhniy Novgorod')\n",
    "dijkstra(G, current_point, dest, route, visited, distances, predecessors)\n",
    "route"
   ]
  }
 ],
 "metadata": {
  "kernelspec": {
   "display_name": "Python 3",
   "language": "python",
   "name": "python3"
  },
  "language_info": {
   "codemirror_mode": {
    "name": "ipython",
    "version": 3
   },
   "file_extension": ".py",
   "mimetype": "text/x-python",
   "name": "python",
   "nbconvert_exporter": "python",
   "pygments_lexer": "ipython3",
   "version": "3.6.0"
  }
 },
 "nbformat": 4,
 "nbformat_minor": 2
}
